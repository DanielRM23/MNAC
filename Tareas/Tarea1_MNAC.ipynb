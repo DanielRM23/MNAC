{
 "cells": [
  {
   "cell_type": "markdown",
   "metadata": {},
   "source": [
    "# Tarea 1. Daniel Rojo Mata. "
   ]
  },
  {
   "cell_type": "markdown",
   "metadata": {},
   "source": [
    "## Problema 1\n",
    "### Para convertir grados celcius a Fahrenheit se hace: \n",
    "### $T_{F} = \\displaystyle\\frac{9}{5} T_{C} + 32° $\n",
    "### En donde $T_{F}$ y $T_{C}$ hacen referencia a la temperatura en grados Fahrenheit y Celsius, respectivamente."
   ]
  },
  {
   "cell_type": "code",
   "execution_count": 60,
   "metadata": {},
   "outputs": [],
   "source": [
    "def celsius_a_fahrenheit(T_c):\n",
    "    T_f = (9/5)*T_c + 32\n",
    "    return T_f"
   ]
  },
  {
   "cell_type": "code",
   "execution_count": 62,
   "metadata": {},
   "outputs": [
    {
     "data": {
      "text/plain": [
       "74.12"
      ]
     },
     "execution_count": 62,
     "metadata": {},
     "output_type": "execute_result"
    }
   ],
   "source": [
    "celsius_a_fahrenheit(23.4)"
   ]
  },
  {
   "cell_type": "markdown",
   "metadata": {},
   "source": [
    "## Problema 5"
   ]
  },
  {
   "cell_type": "code",
   "execution_count": 38,
   "metadata": {},
   "outputs": [],
   "source": [
    "def buscar(lista, numero):\n",
    "    if numero in lista:\n",
    "        print(numero)\n",
    "    else:\n",
    "        print(\"El número no está en la lista.\")"
   ]
  },
  {
   "cell_type": "code",
   "execution_count": 45,
   "metadata": {},
   "outputs": [
    {
     "name": "stdout",
     "output_type": "stream",
     "text": [
      "21\n"
     ]
    }
   ],
   "source": [
    "lista_1 = [i for i in range(0,100)]\n",
    "buscar(lista_1, 21)"
   ]
  },
  {
   "cell_type": "code",
   "execution_count": 46,
   "metadata": {},
   "outputs": [
    {
     "name": "stdout",
     "output_type": "stream",
     "text": [
      "El número no está en la lista.\n"
     ]
    }
   ],
   "source": [
    "lista_2 = [i for i in range(0,100)]\n",
    "buscar(lista_2, 2001)"
   ]
  },
  {
   "cell_type": "markdown",
   "metadata": {},
   "source": [
    "## Problema 7\n",
    "### Sabemos que el área de un círculo es de la forma: $A = \\pi \\ r^2 $\n",
    "### En donde $r$ es el radio del círculo."
   ]
  },
  {
   "cell_type": "code",
   "execution_count": 48,
   "metadata": {},
   "outputs": [],
   "source": [
    "#Se importa el valor de \"pi\".\n",
    "from math import pi \n",
    "\n",
    "def area_circulo(radio):\n",
    "    A = pi*(radio**2)\n",
    "    return A"
   ]
  },
  {
   "cell_type": "code",
   "execution_count": 49,
   "metadata": {},
   "outputs": [
    {
     "data": {
      "text/plain": [
       "28.274333882308138"
      ]
     },
     "execution_count": 49,
     "metadata": {},
     "output_type": "execute_result"
    }
   ],
   "source": [
    "area_circulo(radio=3)"
   ]
  },
  {
   "cell_type": "markdown",
   "metadata": {},
   "source": [
    "## Pregunta 11 \n",
    "### Se define la distancia entre dos vectores, $x$ & $y$, como: \n",
    "### $d_{xy} = \\displaystyle\\sqrt{\\displaystyle\\sum_{i} (x_i - y_i )^2}$ "
   ]
  },
  {
   "cell_type": "code",
   "execution_count": 55,
   "metadata": {},
   "outputs": [],
   "source": [
    "#Se define una función que encuentra la distancia entre dos puntos.\n",
    "def distancia(vector_1, vector_2):\n",
    "    #Los vectores tienen que tener la misma dimensión:\n",
    "    if len(vector_1) == len(vector_2):\n",
    "        norma_cuadrada = 0\n",
    "        for indice in range(0, len(vector_1)):\n",
    "            #Se define la norma al cuadrado como: Σ(xi - yi)^2\n",
    "             norma_cuadrada += (vector_1[indice]-vector_2[indice])**2\n",
    "        #En esta parte se le saca la raíz cuadrada a la norma.\n",
    "        resultado = (norma_cuadrada)**(1/2)        \n",
    "        return resultado\n",
    "    else: \n",
    "        print(\"Las dimensiones no coinciden, vuelve a intentar.\")"
   ]
  },
  {
   "cell_type": "code",
   "execution_count": 56,
   "metadata": {},
   "outputs": [
    {
     "data": {
      "text/plain": [
       "2.8284271247461903"
      ]
     },
     "execution_count": 56,
     "metadata": {},
     "output_type": "execute_result"
    }
   ],
   "source": [
    "vector_1 = [1,2,3]\n",
    "vector_2 = [3,2,1]\n",
    "distancia(vector_1, vector_2)"
   ]
  },
  {
   "cell_type": "code",
   "execution_count": 58,
   "metadata": {},
   "outputs": [
    {
     "name": "stdout",
     "output_type": "stream",
     "text": [
      "Las dimensiones no coinciden, vuelve a intentar.\n"
     ]
    }
   ],
   "source": [
    "vector_1 = [0,0]\n",
    "vector_2 = [0,0,0]\n",
    "distancia(vector_1, vector_2)"
   ]
  },
  {
   "cell_type": "markdown",
   "metadata": {},
   "source": [
    "## Problema 15"
   ]
  },
  {
   "cell_type": "code",
   "execution_count": 51,
   "metadata": {},
   "outputs": [],
   "source": [
    "def factorial(n):\n",
    "    #El factorial de cero es uno, se debe escribir esta parte al inicio.\n",
    "    if n == 0: \n",
    "        return 1\n",
    "    #Aquí se escribe la condición de n<=20, que es equivalente a n<21.\n",
    "    elif n < 21: \n",
    "        #Se usa un contador, pero debe iniciar en uno, si se inicia en 0 todo sería 0.\n",
    "        factorial = 1\n",
    "        for numero in range(1, n+1):\n",
    "            factorial *= numero\n",
    "        return factorial\n",
    "    #Si se ingresa un número mayor a 20, no calcula nada, es una restricción que se pedía.\n",
    "    else:\n",
    "        print(\"Escoge un número menor o igual a 20, por fa\")"
   ]
  },
  {
   "cell_type": "code",
   "execution_count": 52,
   "metadata": {},
   "outputs": [
    {
     "data": {
      "text/plain": [
       "5040"
      ]
     },
     "execution_count": 52,
     "metadata": {},
     "output_type": "execute_result"
    }
   ],
   "source": [
    "factorial(7)"
   ]
  },
  {
   "cell_type": "code",
   "execution_count": 53,
   "metadata": {},
   "outputs": [
    {
     "name": "stdout",
     "output_type": "stream",
     "text": [
      "Escoge un número menor o igual a 20, por fa\n"
     ]
    }
   ],
   "source": [
    "factorial(21)"
   ]
  },
  {
   "cell_type": "markdown",
   "metadata": {},
   "source": [
    "## Problema 17"
   ]
  },
  {
   "cell_type": "code",
   "execution_count": 51,
   "metadata": {},
   "outputs": [],
   "source": [
    "def ordenar(cadena):    \n",
    "    \n",
    "    #Se hace uso de las siguientes strings como guías\n",
    "    MINUSCULAS = \"abcdefghijklmnñopqrstuvwxyz\"\n",
    "    MAYUSCULAS = MINUSCULAS.upper()\n",
    "    NUMEROS = \"0123456789\"\n",
    "    \n",
    "    #Las restricciones que se piden son los if, elif y else.\n",
    "    \n",
    "    if len(cadena) == 0:\n",
    "        print(\"Dame otra string con más elementos, please.\")\n",
    "        \n",
    "    elif len(cadena) < 1000:\n",
    "        #Se hace una lista de comprensión en donde se almacenan las letras mínusculas.\n",
    "        #En todos los casos se hizo uso de la función \"sorted()\" la cual ordena alfabéticamente.\n",
    "        minusculas = sorted([char for char in cadena if char in MINUSCULAS])\n",
    "        #Se hace una lista de comprensión y se guardan las letras mayúsculas.\n",
    "        #De igual forma se usa \"sorted()\"\n",
    "        mayusculas = sorted([char for char in cadena if char in MAYUSCULAS])\n",
    "        #En esta lista se guardan los números que hay en la cadena. \n",
    "        numeros_cadena = [char for char in cadena if char in NUMEROS ]\n",
    "        #Se separan los números pares, se ordenan con \"sorted()\".\n",
    "        pares = sorted([numero for numero in numeros_cadena if int(numero)%2 ==0 ])\n",
    "        #Se separan los números impares y se guardan.\n",
    "        impares = sorted([numero for numero in numeros_cadena if int(numero)%2 !=0 ])\n",
    "        #En este paso se concatenan todas las listas anteriores\n",
    "        cadena_ordenada = minusculas + mayusculas + impares + pares\n",
    "        #Se usa \".join()\" para juntar todos los elementos de la cadena final obteniendo el resultado que se pide.\n",
    "        cadena_final = \"\".join(cadena_ordenada)\n",
    "        \n",
    "        print(cadena_final)\n",
    "    \n",
    "    else:\n",
    "        print(\"Ya te pasaste de elementos krnal\")"
   ]
  },
  {
   "cell_type": "code",
   "execution_count": 52,
   "metadata": {},
   "outputs": [
    {
     "name": "stdout",
     "output_type": "stream",
     "text": [
      "cesAL1022468\n"
     ]
    }
   ],
   "source": [
    "cadena = \"cLAse2021864\"\n",
    "ordenar(cadena)"
   ]
  },
  {
   "cell_type": "code",
   "execution_count": 53,
   "metadata": {},
   "outputs": [
    {
     "name": "stdout",
     "output_type": "stream",
     "text": [
      "aainAAAADEL135579022468\n"
     ]
    }
   ],
   "source": [
    "ordenar(\"AaAaA DAniEL 987456322150\")"
   ]
  }
 ],
 "metadata": {
  "kernelspec": {
   "display_name": "Python 3 (ipykernel)",
   "language": "python",
   "name": "python3"
  },
  "language_info": {
   "codemirror_mode": {
    "name": "ipython",
    "version": 3
   },
   "file_extension": ".py",
   "mimetype": "text/x-python",
   "name": "python",
   "nbconvert_exporter": "python",
   "pygments_lexer": "ipython3",
   "version": "3.11.5"
  }
 },
 "nbformat": 4,
 "nbformat_minor": 4
}
