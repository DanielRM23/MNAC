{
 "cells": [
  {
   "cell_type": "markdown",
   "metadata": {},
   "source": [
    "# Problema 5"
   ]
  },
  {
   "cell_type": "code",
   "execution_count": 14,
   "metadata": {},
   "outputs": [],
   "source": [
    "def parentesis(lista):\n",
    "    \n",
    "    #Se hace una lista que contenga las letras de la string\n",
    "    caracteres = [caracter for caracter in lista]\n",
    "    #Se define una lista auxiliar y un contador \n",
    "    auxiliar = []\n",
    "    contador_inicio=0 ; contador_fin=0\n",
    "    \n",
    "    #Es la condicion de que haya paréntesis en la string\n",
    "    while \")\" in caracteres:\n",
    "        #Recordemos que enumerate nos da una tupla de la forma (indice, caracter)\n",
    "        for indice, caracter in enumerate(caracteres):\n",
    "            #En esta parte se encuentra el caracter \"(\" y se agrega a nuestro contador inicial\n",
    "            if caracter == \"(\":\n",
    "                contador_inicio = indice\n",
    "            #En esta parte se encuentra el caracter \")\" y se agrega a nuestro contador final\n",
    "            if caracter ==\")\":\n",
    "                contador_fin = indice\n",
    "                break \n",
    "                #El break rompe la palabra con los paréntesis que están \"mas adentro\"\n",
    "        \n",
    "        #Aquí se encierra la paralabra con los paréntesis internos \n",
    "        auxiliar = caracteres[contador_inicio+1:contador_fin]\n",
    "        \n",
    "        #Aquí se voltea la palabra\n",
    "        auxiliar.reverse()\n",
    "        \n",
    "        caracteres[contador_inicio+1 : contador_fin] = auxiliar\n",
    "        \n",
    "        #Borramos los parentesis \n",
    "        del caracteres[contador_inicio] ; del caracteres[contador_fin-1]\n",
    "\n",
    "        #Juntamos la palabra\n",
    "        resultado = \"\".join(caracteres)\n",
    "        \n",
    "    return resultado\n",
    "        "
   ]
  },
  {
   "cell_type": "code",
   "execution_count": 16,
   "metadata": {},
   "outputs": [
    {
     "data": {
      "text/plain": [
       "'lolpacrap'"
      ]
     },
     "execution_count": 16,
     "metadata": {},
     "output_type": "execute_result"
    }
   ],
   "source": [
    "lista = \"(cap)\"\n",
    "lista2 = \"lol(cap)rap\"\n",
    "parentesis(lista2)"
   ]
  }
 ],
 "metadata": {
  "kernelspec": {
   "display_name": "Python 3 (ipykernel)",
   "language": "python",
   "name": "python3"
  },
  "language_info": {
   "codemirror_mode": {
    "name": "ipython",
    "version": 3
   },
   "file_extension": ".py",
   "mimetype": "text/x-python",
   "name": "python",
   "nbconvert_exporter": "python",
   "pygments_lexer": "ipython3",
   "version": "3.11.5"
  }
 },
 "nbformat": 4,
 "nbformat_minor": 4
}
