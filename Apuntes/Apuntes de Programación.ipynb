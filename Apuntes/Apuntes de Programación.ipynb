{
 "cells": [
  {
   "cell_type": "markdown",
   "metadata": {},
   "source": [
    "# Clase, 03-06-2021"
   ]
  },
  {
   "cell_type": "markdown",
   "metadata": {},
   "source": [
    "# Listas\n",
    "\n",
    "#### Una lista es una secuencia mutable, que puede contener uno o más elementos. Estos elementos se escriben entre corchetes y separados por comas. "
   ]
  },
  {
   "cell_type": "code",
   "execution_count": null,
   "metadata": {},
   "outputs": [],
   "source": []
  },
  {
   "cell_type": "code",
   "execution_count": 4,
   "metadata": {},
   "outputs": [
    {
     "name": "stdout",
     "output_type": "stream",
     "text": [
      "[1, 2, 3, 4, 4, 5, 1.6, 'Holaaaa', [1, 3, 3]]\n"
     ]
    }
   ],
   "source": [
    "lista = [1,2,3,4,4,5,1.6, \"Holaaaa\",[1,3,3]]\n",
    "print(lista)"
   ]
  },
  {
   "cell_type": "markdown",
   "metadata": {},
   "source": [
    "# Tuplas \n",
    "\n",
    "####  Es una colección inmutable de elementos, éstos están ordenados. Los elementos se definen entre paréntesis y separados por comas."
   ]
  },
  {
   "cell_type": "code",
   "execution_count": 6,
   "metadata": {},
   "outputs": [
    {
     "name": "stdout",
     "output_type": "stream",
     "text": [
      "True\n"
     ]
    }
   ],
   "source": [
    "#Secuencia \"in\"\n",
    "#Se usa para ver si un valor se encuentra dentro de una lista.\n",
    "\n",
    "print(2 in lista)"
   ]
  },
  {
   "cell_type": "code",
   "execution_count": 7,
   "metadata": {},
   "outputs": [
    {
     "name": "stdout",
     "output_type": "stream",
     "text": [
      "True\n"
     ]
    }
   ],
   "source": [
    "print(8 not in lista)"
   ]
  },
  {
   "cell_type": "code",
   "execution_count": 9,
   "metadata": {},
   "outputs": [
    {
     "name": "stdout",
     "output_type": "stream",
     "text": [
      "[1, 2, 3, 4, 4, 5, 1.6, 'Holaaaa', [1, 3, 3], 7, 8, 8, 9]\n"
     ]
    }
   ],
   "source": [
    "#Esto es concatenación.\n",
    "print(lista + [7,8,8,9])"
   ]
  },
  {
   "cell_type": "code",
   "execution_count": 10,
   "metadata": {},
   "outputs": [
    {
     "name": "stdout",
     "output_type": "stream",
     "text": [
      "[1, 2, 3, 4, 1, 2, 3, 4, 1, 2, 3, 4]\n"
     ]
    }
   ],
   "source": [
    "print(3*[1,2,3,4])"
   ]
  },
  {
   "cell_type": "markdown",
   "metadata": {},
   "source": [
    "# Conjuntos \n",
    "\n",
    "#### Un conjunto es una colección de elementos en donde éstos no están ordenados. Un conjunto y sus elementos se definen entre corchetes."
   ]
  },
  {
   "cell_type": "code",
   "execution_count": 11,
   "metadata": {},
   "outputs": [
    {
     "data": {
      "text/plain": [
       "{1, 2, 3, 4}"
      ]
     },
     "execution_count": 11,
     "metadata": {},
     "output_type": "execute_result"
    }
   ],
   "source": [
    "{1,2,3,4,4}"
   ]
  },
  {
   "cell_type": "markdown",
   "metadata": {},
   "source": [
    "# Clase 10-06-2021"
   ]
  },
  {
   "cell_type": "code",
   "execution_count": 1,
   "metadata": {},
   "outputs": [
    {
     "name": "stdout",
     "output_type": "stream",
     "text": [
      "key = 1 , value = 100 \n",
      "key = 2 , value = 200 \n",
      "key = 3 , value = 300 \n"
     ]
    }
   ],
   "source": [
    "dic = {1:100, 2: 200, 3:300}\n",
    "for k, v in dic.items():\n",
    "    print(f\"key = {k} , value = {v} \")"
   ]
  },
  {
   "cell_type": "code",
   "execution_count": 3,
   "metadata": {},
   "outputs": [
    {
     "name": "stdout",
     "output_type": "stream",
     "text": [
      "0 0\n",
      "1 1\n",
      "2 2\n",
      "3 3\n",
      "4 4\n"
     ]
    }
   ],
   "source": [
    "nums = range(5)\n",
    "for i, num in enumerate(nums):\n",
    "    print(i, num)"
   ]
  },
  {
   "cell_type": "markdown",
   "metadata": {},
   "source": [
    "# Clase 08-07-2021"
   ]
  },
  {
   "cell_type": "code",
   "execution_count": 2,
   "metadata": {},
   "outputs": [
    {
     "name": "stdout",
     "output_type": "stream",
     "text": [
      "antes del try\n",
      "Después del try\n"
     ]
    }
   ],
   "source": [
    "memoria = [1,2,2]\n",
    "print(\"antes del try\")\n",
    "try:\n",
    "    memoria[5]\n",
    "except:\n",
    "    print(\"Después del try\")"
   ]
  },
  {
   "cell_type": "code",
   "execution_count": 3,
   "metadata": {},
   "outputs": [],
   "source": [
    "def fibo_recursiva(n):\n",
    "    try:\n",
    "        elemento = memoria[n]\n",
    "        return elemento\n",
    "    except:\n",
    "        if n<=1:\n",
    "            return n\n",
    "        else:\n",
    "            return fibo_recursiva(n-1) + fibo_recursiva(n-2)"
   ]
  },
  {
   "cell_type": "code",
   "execution_count": 31,
   "metadata": {},
   "outputs": [],
   "source": [
    "#Fibonacci\n",
    "\n",
    "def fibo(n):\n",
    "    lista = [0,1]\n",
    "    for i in range(2,n+1):\n",
    "        lista.append(lista[i-1]+ lista[i-2])\n",
    "    print(lista)\n",
    "    return lista[n]"
   ]
  },
  {
   "cell_type": "code",
   "execution_count": 29,
   "metadata": {},
   "outputs": [
    {
     "name": "stdout",
     "output_type": "stream",
     "text": [
      "[0, 1, 1, 2, 3, 5, 8]\n"
     ]
    },
    {
     "data": {
      "text/plain": [
       "8"
      ]
     },
     "execution_count": 29,
     "metadata": {},
     "output_type": "execute_result"
    }
   ],
   "source": [
    "fibo(6)"
   ]
  },
  {
   "cell_type": "markdown",
   "metadata": {},
   "source": [
    "# Tiro parabólico. \n",
    "\n",
    "### Recordemos que para el tiro parábolico las ecuaciones de movimiento son: \n",
    "\n",
    "$x(t) = t \\ v_0 \\ Cos(\\theta)$ \n",
    "\n",
    "$y(t) = -g \\ \\displaystyle\\frac{t^2}{2} + \\ v_0 \\ Sin(\\theta) + h$ \n"
   ]
  },
  {
   "cell_type": "code",
   "execution_count": 1,
   "metadata": {},
   "outputs": [],
   "source": [
    "#Se hace la simulación de un tiro parabólico.\n",
    "#No se considera la fricción con el aire.\n",
    "import numpy as np\n",
    "import matplotlib.pyplot as plt\n",
    "\n",
    "g = 9.81\n",
    "\n",
    "#Se define la posición sobre el eje horizontal.\n",
    "#Se necesita el tiempo=t, la velocidad inicial=V0 y un ángulo=ang.\n",
    "def pos_x(t, v0, ang):\n",
    "    #Esta función cambia de grados a radianes.\n",
    "    ang_radian = np.deg2rad(ang)\n",
    "    res_x = t*v0*np.cos(ang_radian)\n",
    "    return res_x\n",
    "\n",
    "#Se define la posición sobre el eje horizontal.\n",
    "#Se necesita el tiempo, la velocidad inicial, un ángulo y la altura.\n",
    "def pos_y(t, v0, ang, h):\n",
    "    #Esta función cambia de grados a radianes.\n",
    "    ang_radian = np.deg2rad(ang)\n",
    "    res_y = t*v0*np.sin(ang_radian) - 0.5*g*(t**2) + h\n",
    "    return res_y\n",
    "\n",
    "#Velocidad sobre el eje horizontal. \n",
    "def vel_x(v0, ang):\n",
    "    #Esta función cambia de grados a radianes.\n",
    "    ang_radian = np.deg2rad(ang)\n",
    "    vel_x = v0*np.cos(ang_radian)\n",
    "    return vel_x\n",
    "\n",
    "#Velocidad en el eje vertical.\n",
    "def vel_y(t, v0, ang):\n",
    "    #Esta función cambia de grados a radianes.\n",
    "    ang_radian = np.deg2rad(ang)\n",
    "    vel_y = v0*np.sin(ang_radian)-g*t\n",
    "    return vel_y"
   ]
  },
  {
   "cell_type": "code",
   "execution_count": 2,
   "metadata": {},
   "outputs": [
    {
     "data": {
      "text/plain": [
       "-7.688679656440358"
      ]
     },
     "execution_count": 2,
     "metadata": {},
     "output_type": "execute_result"
    }
   ],
   "source": [
    "pos_x(1,3,45)\n",
    "pos_y(1,3,45,10)\n",
    "vel_x(3,45)\n",
    "vel_y(1,3,45)"
   ]
  },
  {
   "cell_type": "code",
   "execution_count": 3,
   "metadata": {},
   "outputs": [],
   "source": [
    "t_bins = np.linspace(0,5,50)\n",
    "x = pos_x(t_bins, 40, 10)\n",
    "y = pos_y(t_bins, 40, 10, 100)\n",
    "vx = vel_x(40,10)\n",
    "vy = vel_y(t_bins, 40, 10)"
   ]
  },
  {
   "cell_type": "markdown",
   "metadata": {},
   "source": [
    "# Gráficas"
   ]
  },
  {
   "cell_type": "code",
   "execution_count": 4,
   "metadata": {},
   "outputs": [
    {
     "data": {
      "text/plain": [
       "(0.0, 105.0)"
      ]
     },
     "execution_count": 4,
     "metadata": {},
     "output_type": "execute_result"
    },
    {
     "data": {
      "image/png": "[encoded data removed]",
      "text/plain": [
       "<Figure size 864x576 with 1 Axes>"
      ]
     },
     "metadata": {
      "needs_background": "light"
     },
     "output_type": "display_data"
    }
   ],
   "source": [
    "#figsize es para el tamaño de la gráfica.\n",
    "fig , ax = plt.subplots(figsize = [12,8])\n",
    "#Este es para graficar los puntos.\n",
    "ax.plot(x,y)\n",
    "#Esto es para ponerle el nombre a los ejes.\n",
    "ax.set_xlabel(\"$x[m]$\")\n",
    "ax.set_ylabel(\"$y[m]$\")\n",
    "#Esto es para los límites de graficación.\n",
    "ax.set_xlim(0,200)\n",
    "ax.set_ylim(0,105)"
   ]
  },
  {
   "cell_type": "code",
   "execution_count": 5,
   "metadata": {},
   "outputs": [
    {
     "data": {
      "text/plain": [
       "(0.0, 50.0)"
      ]
     },
     "execution_count": 5,
     "metadata": {},
     "output_type": "execute_result"
    },
    {
     "data": {
      "image/png": "[encoded data removed]",
      "text/plain": [
       "<Figure size 576x288 with 1 Axes>"
      ]
     },
     "metadata": {
      "needs_background": "light"
     },
     "output_type": "display_data"
    }
   ],
   "source": [
    "#figsize es para el tamaño de la gráfica.\n",
    "fig , ax = plt.subplots(figsize = [8,4])\n",
    "#Este es para graficar una línea horizontal.\n",
    "#Es importante escribir los límites de donde empieza y en donde termina.\n",
    "ax.hlines(vx, min(t_bins), max(t_bins))\n",
    "#Esto es para ponerle el nombre a los ejes.\n",
    "ax.set_xlabel(\"$t[s]$\")\n",
    "ax.set_ylabel(r\"$v_x$ [$\\frac{m}{s}$]\")\n",
    "#Esto es para los límites de graficación.\n",
    "ax.set_xlim(0,5)\n",
    "ax.set_ylim(0,50)"
   ]
  },
  {
   "cell_type": "code",
   "execution_count": 6,
   "metadata": {},
   "outputs": [
    {
     "data": {
      "text/plain": [
       "(0.0, 50.0)"
      ]
     },
     "execution_count": 6,
     "metadata": {},
     "output_type": "execute_result"
    },
    {
     "data": {
      "image/png": "[encoded data removed]",
      "text/plain": [
       "<Figure size 1008x576 with 6 Axes>"
      ]
     },
     "metadata": {
      "needs_background": "light"
     },
     "output_type": "display_data"
    }
   ],
   "source": [
    "#Aquí estamos diciendo que da 2 filas con 3 columnas.\n",
    "fig, axes = plt.subplots(2,3, figsize = [14,8])\n",
    "\n",
    "#Para cambiar el font\n",
    "plt.rcParams.update({\"font.size\":12})\n",
    "\n",
    "#Este es para graficar los puntos.\n",
    "axes[0][0].plot(x,y)\n",
    "#Esto es para ponerle el nombre a los ejes.\n",
    "axes[0][0].set_xlabel(\"$x[m]$\")\n",
    "axes[0][0].set_ylabel(\"$y[m]$\")\n",
    "#Esto es para los límites de graficación.\n",
    "axes[0][0].set_xlim(0,200)\n",
    "axes[0][0].set_ylim(0,110)\n",
    "\n",
    "axes[1][0].hlines(vx, min(t_bins), max(t_bins))\n",
    "#Esto es para ponerle el nombre a los ejes.\n",
    "axes[1][0].set_xlabel(\"$t[s]$\")\n",
    "axes[1][0].set_ylabel(r\"$v_x$ [$\\frac{m}{s}$]\")\n",
    "#Esto es para los límites de graficación.\n",
    "axes[1][0].set_xlim(0,5)\n",
    "axes[1][0].set_ylim(0,50)"
   ]
  },
  {
   "cell_type": "code",
   "execution_count": 7,
   "metadata": {},
   "outputs": [
    {
     "data": {
      "text/plain": [
       "(array([  1.,   0.,   0.,   2.,   0.,   1.,   2.,   1.,   2.,   2.,   1.,\n",
       "          3.,   2.,   4.,   4.,   3.,   5.,   9.,  10.,   7.,  22.,  28.,\n",
       "         24.,  24.,  33.,  43.,  59.,  52.,  63.,  98.,  84.,  92., 108.,\n",
       "        128., 129., 143., 171., 195., 207., 208., 227., 279., 263., 262.,\n",
       "        270., 308., 313., 295., 299., 306., 311., 338., 349., 300., 282.,\n",
       "        303., 294., 243., 242., 251., 243., 236., 211., 190., 173., 160.,\n",
       "        130., 130., 128.,  86.,  84.,  79.,  69.,  66.,  57.,  42.,  41.,\n",
       "         37.,  21.,  22.,  17.,  16.,  15.,  13.,   3.,   6.,   4.,   2.,\n",
       "          3.,   1.,   4.,   3.,   0.,   1.,   0.,   0.,   1.,   0.,   0.,\n",
       "          1.]),\n",
       " array([-4.09053818, -4.00964253, -3.92874688, -3.84785123, -3.76695558,\n",
       "        -3.68605993, -3.60516428, -3.52426862, -3.44337297, -3.36247732,\n",
       "        -3.28158167, -3.20068602, -3.11979037, -3.03889472, -2.95799907,\n",
       "        -2.87710342, -2.79620777, -2.71531212, -2.63441647, -2.55352082,\n",
       "        -2.47262517, -2.39172952, -2.31083387, -2.22993822, -2.14904257,\n",
       "        -2.06814691, -1.98725126, -1.90635561, -1.82545996, -1.74456431,\n",
       "        -1.66366866, -1.58277301, -1.50187736, -1.42098171, -1.34008606,\n",
       "        -1.25919041, -1.17829476, -1.09739911, -1.01650346, -0.93560781,\n",
       "        -0.85471216, -0.77381651, -0.69292086, -0.6120252 , -0.53112955,\n",
       "        -0.4502339 , -0.36933825, -0.2884426 , -0.20754695, -0.1266513 ,\n",
       "        -0.04575565,  0.03514   ,  0.11603565,  0.1969313 ,  0.27782695,\n",
       "         0.3587226 ,  0.43961825,  0.5205139 ,  0.60140955,  0.6823052 ,\n",
       "         0.76320085,  0.8440965 ,  0.92499216,  1.00588781,  1.08678346,\n",
       "         1.16767911,  1.24857476,  1.32947041,  1.41036606,  1.49126171,\n",
       "         1.57215736,  1.65305301,  1.73394866,  1.81484431,  1.89573996,\n",
       "         1.97663561,  2.05753126,  2.13842691,  2.21932256,  2.30021821,\n",
       "         2.38111387,  2.46200952,  2.54290517,  2.62380082,  2.70469647,\n",
       "         2.78559212,  2.86648777,  2.94738342,  3.02827907,  3.10917472,\n",
       "         3.19007037,  3.27096602,  3.35186167,  3.43275732,  3.51365297,\n",
       "         3.59454862,  3.67544427,  3.75633992,  3.83723557,  3.91813123,\n",
       "         3.99902688]),\n",
       " <a list of 100 Patch objects>)"
      ]
     },
     "execution_count": 7,
     "metadata": {},
     "output_type": "execute_result"
    },
    {
     "data": {
      "image/png": "[encoded data removed]",
      "text/plain": [
       "<Figure size 432x288 with 1 Axes>"
      ]
     },
     "metadata": {
      "needs_background": "light"
     },
     "output_type": "display_data"
    }
   ],
   "source": [
    "#loc es el centro de la gaussiana.\n",
    "#scale es la sigma; lo ancho.\n",
    "#size son 100 números aleatorios que siguen la distribución.\n",
    "numeros = np.random.normal(loc=0, scale = 1, size = 10000)\n",
    "plt.hist(numeros, bins = 100)"
   ]
  },
  {
   "cell_type": "markdown",
   "metadata": {},
   "source": [
    "# Incertidumbres en gráficas (barras de error)"
   ]
  },
  {
   "cell_type": "code",
   "execution_count": 40,
   "metadata": {},
   "outputs": [],
   "source": [
    "def real_x(scale):\n",
    "    t_bins = np.linspace(0,5,50)\n",
    "    x = pos_x(t_bins, 40, 10)\n",
    "    errores = np.random.normal(loc = 0, scale = scale, size = len(x))\n",
    "    res = x + errores\n",
    "    return res, errores"
   ]
  },
  {
   "cell_type": "code",
   "execution_count": 42,
   "metadata": {},
   "outputs": [
    {
     "data": {
      "text/plain": [
       "Text(0, 0.5, '$y[m]$')"
      ]
     },
     "execution_count": 42,
     "metadata": {},
     "output_type": "execute_result"
    },
    {
     "data": {
      "image/png": "[encoded data removed]",
      "text/plain": [
       "<Figure size 864x576 with 1 Axes>"
      ]
     },
     "metadata": {
      "needs_background": "light"
     },
     "output_type": "display_data"
    }
   ],
   "source": [
    "x_real = real_x(1)\n",
    "\n",
    "#figsize es para el tamaño de la gráfica.\n",
    "fig , ax = plt.subplots(figsize = [12,8])\n",
    "#Este es para graficar los puntos.\n",
    "ax.plot(t_bins, x) \n",
    "ax.scatter(t_bins, x_real[0], c = \"red\", marker = \"x\")\n",
    "#Esto es para ponerle el nombre a los ejes.\n",
    "ax.set_xlabel(\"$x[m]$\")\n",
    "ax.set_ylabel(\"$y[m]$\")"
   ]
  },
  {
   "cell_type": "code",
   "execution_count": 38,
   "metadata": {},
   "outputs": [
    {
     "data": {
      "text/plain": [
       "Text(0, 0.5, '$y[m]$')"
      ]
     },
     "execution_count": 38,
     "metadata": {},
     "output_type": "execute_result"
    },
    {
     "data": {
      "image/png": "[encoded data removed]",
      "text/plain": [
       "<Figure size 864x576 with 1 Axes>"
      ]
     },
     "metadata": {
      "needs_background": "light"
     },
     "output_type": "display_data"
    }
   ],
   "source": [
    "x_real, err_x = real_x(10)\n",
    "\n",
    "#figsize es para el tamaño de la gráfica.\n",
    "fig , ax = plt.subplots(figsize = [12,8])\n",
    "#Este es para graficar los puntos.\n",
    "ax.plot(t_bins, x) \n",
    "ax.errorbar(t_bins, x_real, yerr = err_x, ecolor = \"red\", fmt = \"x\", \n",
    "            color = \"black\", capsize = 8)\n",
    "#Esto es para ponerle el nombre a los ejes.\n",
    "ax.set_xlabel(\"$x[m]$\")\n",
    "ax.set_ylabel(\"$y[m]$\")"
   ]
  },
  {
   "cell_type": "code",
   "execution_count": 43,
   "metadata": {},
   "outputs": [],
   "source": [
    "def real_t(scale):\n",
    "    errores = np.random.normal(loc = 0, scale = scale, size = len(x))\n",
    "    res = t_bins + errores\n",
    "    return res, errores"
   ]
  },
  {
   "cell_type": "code",
   "execution_count": 48,
   "metadata": {},
   "outputs": [
    {
     "data": {
      "text/plain": [
       "Text(0, 0.5, '$y[m]$')"
      ]
     },
     "execution_count": 48,
     "metadata": {},
     "output_type": "execute_result"
    },
    {
     "data": {
      "image/png": "[encoded data removed]",
      "text/plain": [
       "<Figure size 864x576 with 1 Axes>"
      ]
     },
     "metadata": {
      "needs_background": "light"
     },
     "output_type": "display_data"
    }
   ],
   "source": [
    "x_real, err_x = real_x(10)\n",
    "t_real, err_t = real_t(0.09)\n",
    "\n",
    "#figsize es para el tamaño de la gráfica.\n",
    "fig , ax = plt.subplots(figsize = [12,8])\n",
    "#Este es para graficar los puntos.\n",
    "ax.plot(t_bins, x) \n",
    "ax.errorbar(t_bins, x_real, xerr = err_t, yerr = err_x, ecolor = \"red\", fmt = \"x\", \n",
    "            color = \"black\", capsize = 8)\n",
    "#Esto es para ponerle el nombre a los ejes.\n",
    "ax.set_xlabel(\"$x[m]$\")\n",
    "ax.set_ylabel(\"$y[m]$\")"
   ]
  },
  {
   "cell_type": "code",
   "execution_count": 98,
   "metadata": {},
   "outputs": [
    {
     "data": {
      "text/plain": [
       "115.85499999999999"
      ]
     },
     "execution_count": 98,
     "metadata": {},
     "output_type": "execute_result"
    }
   ],
   "source": [
    "p1 = Particula(v0 = 40, ang = 30, h = 100 )\n",
    "p1.pos_y(3)"
   ]
  },
  {
   "cell_type": "markdown",
   "metadata": {},
   "source": [
    "# Raíces de polinomios"
   ]
  },
  {
   "cell_type": "markdown",
   "metadata": {},
   "source": [
    "\"https://colab.research.google.com/gist/fractaliusfc/d57934b94202f0f37003ac3da7c6e88c/find_roots.ipynb#scrollTo=sl1r7po-KPSW\""
   ]
  },
  {
   "cell_type": "code",
   "execution_count": 105,
   "metadata": {},
   "outputs": [],
   "source": [
    "#Esta es una forma más rápida para hacer funciones\n",
    "#Estas funciones no se guardan en la memoria\n",
    "t1 = lambda x: x+1 "
   ]
  },
  {
   "cell_type": "code",
   "execution_count": 104,
   "metadata": {},
   "outputs": [
    {
     "data": {
      "text/plain": [
       "2"
      ]
     },
     "execution_count": 104,
     "metadata": {},
     "output_type": "execute_result"
    }
   ],
   "source": [
    "t1(1)"
   ]
  },
  {
   "cell_type": "markdown",
   "metadata": {},
   "source": [
    "# Regresión lineal con mínimos cuadrados"
   ]
  },
  {
   "cell_type": "code",
   "execution_count": 36,
   "metadata": {},
   "outputs": [
    {
     "data": {
      "text/plain": [
       "<matplotlib.collections.PathCollection at 0x2a0eb81faf0>"
      ]
     },
     "execution_count": 36,
     "metadata": {},
     "output_type": "execute_result"
    },
    {
     "data": {
      "image/png": "[encoded data removed]",
      "text/plain": [
       "<Figure size 432x288 with 1 Axes>"
      ]
     },
     "metadata": {
      "needs_background": "light"
     },
     "output_type": "display_data"
    }
   ],
   "source": [
    "import numpy as np\n",
    "import matplotlib.pyplot as plt \n",
    "\n",
    "x = np.linspace(0,1,101)\n",
    "y = 1 + x + x *np.random.random(len(x))\n",
    "\n",
    "plt.scatter(x,y)"
   ]
  },
  {
   "cell_type": "code",
   "execution_count": 37,
   "metadata": {},
   "outputs": [
    {
     "data": {
      "text/plain": [
       "[<matplotlib.lines.Line2D at 0x2a0eb637370>]"
      ]
     },
     "execution_count": 37,
     "metadata": {},
     "output_type": "execute_result"
    },
    {
     "data": {
      "image/png": "[encoded data removed]",
      "text/plain": [
       "<Figure size 432x288 with 1 Axes>"
      ]
     },
     "metadata": {
      "needs_background": "light"
     },
     "output_type": "display_data"
    }
   ],
   "source": [
    "#Calculamos el promedio\n",
    "\n",
    "X_mean = np.mean(x)\n",
    "Y_mean = np.mean(y)\n",
    "\n",
    "num = 0\n",
    "den = 0\n",
    "#Aquí se hacen las sumas\n",
    "for i in range(len(x)):\n",
    "    num += (x[i] - X_mean)*(y[i]-Y_mean)\n",
    "    den += (x[i] - X_mean)**2\n",
    "\n",
    "#Esto es la pendiente \n",
    "m = num/den\n",
    "c = Y_mean - m*X_mean\n",
    "#Definimos los datos de la recta\n",
    "\n",
    "y_pred = m*x + c\n",
    "\n",
    "\n",
    "plt.scatter(x,y)\n",
    "plt.plot([min(x), max(x)], [min(y_pred), max(y_pred)], color = \"red\")"
   ]
  },
  {
   "cell_type": "code",
   "execution_count": 40,
   "metadata": {},
   "outputs": [],
   "source": [
    "#Apilamos primero los valores en el vector x y luego en un vector de puros 1's\n",
    "#Es decir, tenemos una lista de listas\n",
    "#El .T transpone la matriz\n",
    "A = np.vstack([x, np.ones(len(x))]).T"
   ]
  },
  {
   "cell_type": "code",
   "execution_count": 48,
   "metadata": {},
   "outputs": [],
   "source": [
    "#Esto es para que se tenga un vector vertical \n",
    "y1 = y[:, np.newaxis]"
   ]
  },
  {
   "cell_type": "code",
   "execution_count": 49,
   "metadata": {},
   "outputs": [
    {
     "data": {
      "text/plain": [
       "array([[ 33.835,  50.5  ],\n",
       "       [ 50.5  , 101.   ]])"
      ]
     },
     "execution_count": 49,
     "metadata": {},
     "output_type": "execute_result"
    }
   ],
   "source": [
    "#Multiplicación matricial\n",
    "np.dot(A.T, A)"
   ]
  },
  {
   "cell_type": "code",
   "execution_count": 52,
   "metadata": {},
   "outputs": [],
   "source": [
    "#Inversa de matriz\n",
    "inversa = np.linalg.inv( np.dot(A.T, A) )"
   ]
  },
  {
   "cell_type": "code",
   "execution_count": 56,
   "metadata": {},
   "outputs": [
    {
     "data": {
      "text/plain": [
       "array([[1.60997885],\n",
       "       [0.95742728]])"
      ]
     },
     "execution_count": 56,
     "metadata": {},
     "output_type": "execute_result"
    }
   ],
   "source": [
    "#El primer elemento de res es la pendiente\n",
    "#El segundo elemento de res el la ordenada al origen \n",
    "res = np.dot(np.dot(inversa , A.T), y1)\n",
    "res"
   ]
  },
  {
   "cell_type": "markdown",
   "metadata": {},
   "source": [
    "### Numpy ya tiene un paquete que te da los parámetros de mínimos cuadrados"
   ]
  },
  {
   "cell_type": "code",
   "execution_count": 58,
   "metadata": {},
   "outputs": [
    {
     "data": {
      "text/plain": [
       "array([1.60997885, 0.95742728])"
      ]
     },
     "execution_count": 58,
     "metadata": {},
     "output_type": "execute_result"
    }
   ],
   "source": [
    "alpha = np.linalg.lstsq(A , y, rcond=None)[0]\n",
    "alpha"
   ]
  },
  {
   "cell_type": "code",
   "execution_count": 61,
   "metadata": {},
   "outputs": [
    {
     "data": {
      "text/plain": [
       "array([1.60997885, 0.95742728])"
      ]
     },
     "execution_count": 61,
     "metadata": {},
     "output_type": "execute_result"
    }
   ],
   "source": [
    "from scipy import optimize\n",
    "\n",
    "def func(x,a,b):\n",
    "    y = a*x + b\n",
    "    return y\n",
    "\n",
    "alpha = optimize.curve_fit(func, xdata = x, ydata = y)[0]\n",
    "alpha"
   ]
  }
 ],
 "metadata": {
  "kernelspec": {
   "display_name": "Python 3 (ipykernel)",
   "language": "python",
   "name": "python3"
  },
  "language_info": {
   "codemirror_mode": {
    "name": "ipython",
    "version": 3
   },
   "file_extension": ".py",
   "mimetype": "text/x-python",
   "name": "python",
   "nbconvert_exporter": "python",
   "pygments_lexer": "ipython3",
   "version": "3.11.5"
  }
 },
 "nbformat": 4,
 "nbformat_minor": 4
}
